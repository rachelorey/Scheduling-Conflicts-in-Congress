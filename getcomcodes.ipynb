{
 "cells": [
  {
   "cell_type": "markdown",
   "metadata": {},
   "source": [
    "### Get Committee Names and Codes from Clerk of the House\n",
    "Works for current Congress (can use archive for prior)"
   ]
  },
  {
   "cell_type": "code",
   "execution_count": 9,
   "metadata": {},
   "outputs": [
    {
     "name": "stdout",
     "output_type": "stream",
     "text": [
      "                                             Committee  Code\n",
      "0                                          Agriculture  AG00\n",
      "1                                       Appropriations  AP00\n",
      "2                                       Armed Services  AS00\n",
      "3                                               Budget  BU00\n",
      "4                          Education and the Workforce  ED00\n",
      "..                                                 ...   ...\n",
      "156  Subcommittee on Defense Intelligence and Overh...  IG04\n",
      "157  Subcommittee on National Intelligence Enterpri...  IG06\n",
      "158  Subcommittee on National Security Agency and C...  IG02\n",
      "159  Subcommittee on Oversight and Investigations (...  IG09\n",
      "160  Select Committee on the  Strategic Competition...  ZS00\n",
      "\n",
      "[161 rows x 2 columns]\n"
     ]
    }
   ],
   "source": [
    "import requests\n",
    "from bs4 import BeautifulSoup\n",
    "import re\n",
    "import pandas as pd\n",
    "\n",
    "# Send a GET request\n",
    "response = requests.get('https://clerk.house.gov/committees')\n",
    "\n",
    "# Parse the HTML content\n",
    "soup = BeautifulSoup(response.text, 'html.parser')\n",
    "\n",
    "# Find all the anchor tags\n",
    "anchor_tags = soup.find_all('a')\n",
    "\n",
    "# Initialize two empty lists to store the committee names and codes\n",
    "committee_names = []\n",
    "codes = []\n",
    "\n",
    "# For each anchor tag\n",
    "for tag in anchor_tags:\n",
    "    # Extract the href attribute\n",
    "    href = tag.get('href')\n",
    "    \n",
    "    # Check if the href attribute contains the path for committees or subcommittees\n",
    "    if href and ('/committees/' in href or '/subcommittees/' in href):\n",
    "        # Extract the 4 character code\n",
    "        code = re.search(r'/([A-Z0-9]{4})$', href)\n",
    "        \n",
    "        # If a code was found\n",
    "        if code:\n",
    "            # Add the committee name and code to the respective lists\n",
    "            if '00' in href: #full committee\n",
    "                committee_names.append(tag.text.strip())\n",
    "            else:  # '/subcommittees/' in href\n",
    "                previous_href = tag.find_previous('a', href=re.compile(r'/[A-Z0-9]{2}00$'))\n",
    "                if previous_href:\n",
    "                    committee_names.append('Subcommittee on ' + tag.text.strip() + ' (Committee on ' + previous_href.text.strip() + ')')\n",
    "            codes.append(code.group(1))\n",
    "\n",
    "# Create a DataFrame\n",
    "df = pd.DataFrame({\n",
    "    'Committee': committee_names,\n",
    "    'Code': codes\n",
    "})\n",
    "\n",
    "#remove quotation marks from the df\n",
    "df['Committee'] = df['Committee'].str.replace('\"', '')\n",
    "\n",
    "# display the DataFrame\n",
    "display(df)\n",
    "\n",
    "df.to_csv('replacement118.csv', index=False)"
   ]
  }
 ],
 "metadata": {
  "kernelspec": {
   "display_name": "Python 3",
   "language": "python",
   "name": "python3"
  },
  "language_info": {
   "codemirror_mode": {
    "name": "ipython",
    "version": 3
   },
   "file_extension": ".py",
   "mimetype": "text/x-python",
   "name": "python",
   "nbconvert_exporter": "python",
   "pygments_lexer": "ipython3",
   "version": "3.10.13"
  }
 },
 "nbformat": 4,
 "nbformat_minor": 2
}
