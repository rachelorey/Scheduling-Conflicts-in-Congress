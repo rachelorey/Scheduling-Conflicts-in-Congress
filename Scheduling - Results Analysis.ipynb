{
 "cells": [
  {
   "cell_type": "markdown",
   "metadata": {},
   "source": [
    "# Analysis of Scheduling Conflicts Data"
   ]
  },
  {
   "cell_type": "code",
   "execution_count": 1,
   "metadata": {},
   "outputs": [
    {
     "name": "stdout",
     "output_type": "stream",
     "text": [
      "Congress (3-digit number): 113\n"
     ]
    }
   ],
   "source": [
    "import pandas as pd\n",
    "import matplotlib.pyplot as plt\n",
    "\n",
    "congress = input(\"Congress (3-digit number): \")\n",
    "\n",
    "if int(congress) > 115:\n",
    "    results = pd.read_csv(str(\"C:\\\\Users\\\\rorey\\\\OneDrive - Bipartisan Policy Center\\\\Congress\\\\Modernization\\\\Scheduling Conflicts\\\\NEW\\\\Results\\\\\"+str(congress)+\"\\\\results\"+str(congress)+\".csv\"))\n",
    "    hearing_data = pd.read_csv(str(\"C:\\\\Users\\\\rorey\\\\OneDrive - Bipartisan Policy Center\\\\Congress\\\\Modernization\\\\Scheduling Conflicts\\\\NEW\\\\Results\\\\\"+str(congress)+\"\\\\hearings\"+str(congress)+\".csv\"))\n",
    "    members = pd.read_csv(str(\"C:\\\\Users\\\\rorey\\\\OneDrive - Bipartisan Policy Center\\\\Congress\\\\Modernization\\\\Scheduling Conflicts\\\\NEW\\\\Results\\\\\"+str(congress)+\"\\\\assignments\"+str(congress)+\".csv\"),index_col=0)\n",
    "    \n",
    "else:\n",
    "    results = pd.read_csv(str(\"C:\\\\Users\\\\rorey\\\\OneDrive - Bipartisan Policy Center\\\\Congress\\\\Modernization\\\\Scheduling Conflicts\\\\NEW\\\\Results\\\\2020 run\\\\results\"+str(congress)+\".csv\"))\n",
    "    hearing_data = pd.read_csv(str(\"C:\\\\Users\\\\rorey\\\\OneDrive - Bipartisan Policy Center\\\\Congress\\\\Modernization\\\\Scheduling Conflicts\\\\NEW\\\\Results\\\\2020 run\\\\hearings\"+str(congress)+\".csv\"))\n",
    "    members = pd.read_csv(str(\"C:\\\\Users\\\\rorey\\\\OneDrive - Bipartisan Policy Center\\\\Congress\\\\Modernization\\\\Scheduling Conflicts\\\\NEW\\\\Results\\\\2020 run\\\\assignments\"+str(congress)+\".csv\"),index_col=0)    "
   ]
  },
  {
   "cell_type": "markdown",
   "metadata": {},
   "source": [
    "## Quick pulling together of number of assigments per member"
   ]
  },
  {
   "cell_type": "code",
   "execution_count": 2,
   "metadata": {},
   "outputs": [],
   "source": [
    "members\n",
    "members[\"id\"] = members.index\n",
    "members_long = pd.melt(members,id_vars=[\"id\"])"
   ]
  },
  {
   "cell_type": "code",
   "execution_count": 3,
   "metadata": {},
   "outputs": [],
   "source": [
    "# members_long.drop([\"variable\"],axis=1,inplace=True)\n",
    "# members_long.dropna(inplace=True)\n",
    "\n",
    "assign_dist = members_long.groupby([\"value\"]).count()\n",
    "# assign_dist[\"member\"] = assign_dist.index\n",
    "assign_dist\n",
    "\n",
    "assign_dist.to_csv(\"C:\\\\Users\\\\rorey\\\\OneDrive - Bipartisan Policy Center\\\\Congress\\\\Modernization\\\\Scheduling Conflicts\\\\NEW\\\\Results\\\\\"+str(congress)+\"\\\\assignmentsbymember\"+str(congress)+\".csv\",index=True)"
   ]
  },
  {
   "cell_type": "markdown",
   "metadata": {},
   "source": [
    "# Frequency of Conflicts by Committee"
   ]
  },
  {
   "cell_type": "code",
   "execution_count": 4,
   "metadata": {
    "scrolled": true
   },
   "outputs": [
    {
     "data": {
      "text/html": [
       "<div>\n",
       "<style scoped>\n",
       "    .dataframe tbody tr th:only-of-type {\n",
       "        vertical-align: middle;\n",
       "    }\n",
       "\n",
       "    .dataframe tbody tr th {\n",
       "        vertical-align: top;\n",
       "    }\n",
       "\n",
       "    .dataframe thead th {\n",
       "        text-align: right;\n",
       "    }\n",
       "</style>\n",
       "<table border=\"1\" class=\"dataframe\">\n",
       "  <thead>\n",
       "    <tr style=\"text-align: right;\">\n",
       "      <th></th>\n",
       "      <th>Committee</th>\n",
       "      <th>Code</th>\n",
       "      <th>Scheduling Conflicts</th>\n",
       "      <th>Committee Members (Count)</th>\n",
       "    </tr>\n",
       "  </thead>\n",
       "  <tbody>\n",
       "    <tr>\n",
       "      <th>8</th>\n",
       "      <td>Committee on Natural Resources</td>\n",
       "      <td>II00</td>\n",
       "      <td>2471</td>\n",
       "      <td>47</td>\n",
       "    </tr>\n",
       "    <tr>\n",
       "      <th>13</th>\n",
       "      <td>Committee on Foreign Affairs</td>\n",
       "      <td>FA00</td>\n",
       "      <td>2063</td>\n",
       "      <td>47</td>\n",
       "    </tr>\n",
       "    <tr>\n",
       "      <th>12</th>\n",
       "      <td>Committee on Oversight and Government Reform</td>\n",
       "      <td>GO00</td>\n",
       "      <td>1945</td>\n",
       "      <td>41</td>\n",
       "    </tr>\n",
       "    <tr>\n",
       "      <th>9</th>\n",
       "      <td>Committee on Energy and Commerce</td>\n",
       "      <td>IF00</td>\n",
       "      <td>1923</td>\n",
       "      <td>55</td>\n",
       "    </tr>\n",
       "    <tr>\n",
       "      <th>7</th>\n",
       "      <td>Committee on the Judiciary</td>\n",
       "      <td>JU00</td>\n",
       "      <td>1898</td>\n",
       "      <td>40</td>\n",
       "    </tr>\n",
       "    <tr>\n",
       "      <th>6</th>\n",
       "      <td>Committee on Transportation and Infrastructure</td>\n",
       "      <td>PW00</td>\n",
       "      <td>1505</td>\n",
       "      <td>61</td>\n",
       "    </tr>\n",
       "    <tr>\n",
       "      <th>18</th>\n",
       "      <td>Committee on Appropriations</td>\n",
       "      <td>AP00</td>\n",
       "      <td>1339</td>\n",
       "      <td>52</td>\n",
       "    </tr>\n",
       "    <tr>\n",
       "      <th>17</th>\n",
       "      <td>Committee on Armed Services</td>\n",
       "      <td>AS00</td>\n",
       "      <td>1267</td>\n",
       "      <td>63</td>\n",
       "    </tr>\n",
       "    <tr>\n",
       "      <th>3</th>\n",
       "      <td>Committee on Science, Space, and Technology</td>\n",
       "      <td>SY00</td>\n",
       "      <td>1211</td>\n",
       "      <td>41</td>\n",
       "    </tr>\n",
       "    <tr>\n",
       "      <th>14</th>\n",
       "      <td>Committee on Education and the Workforce</td>\n",
       "      <td>ED00</td>\n",
       "      <td>978</td>\n",
       "      <td>42</td>\n",
       "    </tr>\n",
       "    <tr>\n",
       "      <th>10</th>\n",
       "      <td>Committee on Homeland Security</td>\n",
       "      <td>HM00</td>\n",
       "      <td>802</td>\n",
       "      <td>31</td>\n",
       "    </tr>\n",
       "    <tr>\n",
       "      <th>0</th>\n",
       "      <td>Committee on Veterans Affairs</td>\n",
       "      <td>VR00</td>\n",
       "      <td>723</td>\n",
       "      <td>26</td>\n",
       "    </tr>\n",
       "    <tr>\n",
       "      <th>16</th>\n",
       "      <td>Committee on Financial Services</td>\n",
       "      <td>BA00</td>\n",
       "      <td>600</td>\n",
       "      <td>62</td>\n",
       "    </tr>\n",
       "    <tr>\n",
       "      <th>19</th>\n",
       "      <td>Committee on Agriculture</td>\n",
       "      <td>AG00</td>\n",
       "      <td>533</td>\n",
       "      <td>47</td>\n",
       "    </tr>\n",
       "    <tr>\n",
       "      <th>15</th>\n",
       "      <td>Committee on the Budget</td>\n",
       "      <td>BU00</td>\n",
       "      <td>465</td>\n",
       "      <td>39</td>\n",
       "    </tr>\n",
       "    <tr>\n",
       "      <th>4</th>\n",
       "      <td>Committee on Small Business</td>\n",
       "      <td>SM00</td>\n",
       "      <td>272</td>\n",
       "      <td>26</td>\n",
       "    </tr>\n",
       "    <tr>\n",
       "      <th>2</th>\n",
       "      <td>Committee on Ways and Means</td>\n",
       "      <td>WM00</td>\n",
       "      <td>123</td>\n",
       "      <td>40</td>\n",
       "    </tr>\n",
       "    <tr>\n",
       "      <th>5</th>\n",
       "      <td>Committee on Rules</td>\n",
       "      <td>RU00</td>\n",
       "      <td>90</td>\n",
       "      <td>14</td>\n",
       "    </tr>\n",
       "    <tr>\n",
       "      <th>11</th>\n",
       "      <td>Committee on House Administration</td>\n",
       "      <td>HA00</td>\n",
       "      <td>65</td>\n",
       "      <td>10</td>\n",
       "    </tr>\n",
       "    <tr>\n",
       "      <th>1</th>\n",
       "      <td>Select Committee on the Events Surrounding the...</td>\n",
       "      <td>ZI00</td>\n",
       "      <td>7</td>\n",
       "      <td>13</td>\n",
       "    </tr>\n",
       "  </tbody>\n",
       "</table>\n",
       "</div>"
      ],
      "text/plain": [
       "                                            Committee  Code  \\\n",
       "8                      Committee on Natural Resources  II00   \n",
       "13                       Committee on Foreign Affairs  FA00   \n",
       "12       Committee on Oversight and Government Reform  GO00   \n",
       "9                    Committee on Energy and Commerce  IF00   \n",
       "7                          Committee on the Judiciary  JU00   \n",
       "6      Committee on Transportation and Infrastructure  PW00   \n",
       "18                        Committee on Appropriations  AP00   \n",
       "17                        Committee on Armed Services  AS00   \n",
       "3         Committee on Science, Space, and Technology  SY00   \n",
       "14           Committee on Education and the Workforce  ED00   \n",
       "10                     Committee on Homeland Security  HM00   \n",
       "0                       Committee on Veterans Affairs  VR00   \n",
       "16                    Committee on Financial Services  BA00   \n",
       "19                           Committee on Agriculture  AG00   \n",
       "15                            Committee on the Budget  BU00   \n",
       "4                         Committee on Small Business  SM00   \n",
       "2                         Committee on Ways and Means  WM00   \n",
       "5                                  Committee on Rules  RU00   \n",
       "11                  Committee on House Administration  HA00   \n",
       "1   Select Committee on the Events Surrounding the...  ZI00   \n",
       "\n",
       "    Scheduling Conflicts  Committee Members (Count)  \n",
       "8                   2471                         47  \n",
       "13                  2063                         47  \n",
       "12                  1945                         41  \n",
       "9                   1923                         55  \n",
       "7                   1898                         40  \n",
       "6                   1505                         61  \n",
       "18                  1339                         52  \n",
       "17                  1267                         63  \n",
       "3                   1211                         41  \n",
       "14                   978                         42  \n",
       "10                   802                         31  \n",
       "0                    723                         26  \n",
       "16                   600                         62  \n",
       "19                   533                         47  \n",
       "15                   465                         39  \n",
       "4                    272                         26  \n",
       "2                    123                         40  \n",
       "5                     90                         14  \n",
       "11                    65                         10  \n",
       "1                      7                         13  "
      ]
     },
     "metadata": {},
     "output_type": "display_data"
    }
   ],
   "source": [
    "#committees with most conflicts, subcommittees broken out\n",
    "pd.DataFrame(results[\"Hearing 1 Code\"].append(results[\"Hearing 2 Code\"])).value_counts()\n",
    "#import file with committee names\n",
    "replacement = pd.read_csv(str(\"https://raw.githubusercontent.com/rachelorey/Scheduling-Conflicts-in-Congress/master/replacement\"+str(congress)+\".csv\"))\n",
    "\n",
    "#committes with most conflicts, sub > general\n",
    "comm_freq  = pd.DataFrame(pd.DataFrame([i[0:2] for i in results[\"Hearing 1 Code\"].append(results[\"Hearing 2 Code\"])]).value_counts(),columns=[\"conf\"])\n",
    "comm_freq.reset_index(inplace=True)\n",
    "comm_freq.columns = [\"Short Code\",\"Scheduling Conflicts\"]\n",
    "\n",
    "comm_freq[\"Code\"] = [i+\"00\" for i in comm_freq[\"Short Code\"]]\n",
    "comm_freq = pd.merge(replacement,comm_freq, on = \"Code\",how=\"inner\")\n",
    "comm_freq.drop(\"Short Code\",axis=1,inplace=True)\n",
    "comm_freq.sort_values(by=\"Scheduling Conflicts\",ascending=False,inplace=True)\n",
    "\n",
    "membercount = list()\n",
    "for code in comm_freq[\"Code\"]:\n",
    "    membercount = membercount + [members.transpose()[code].count()]\n",
    "    \n",
    "comm_freq[\"Committee Members (Count)\"] = membercount\n",
    "\n",
    "display(comm_freq)\n",
    "\n",
    "comm_freq.to_csv(\"C:\\\\Users\\\\rorey\\\\OneDrive - Bipartisan Policy Center\\\\Congress\\\\Modernization\\\\Scheduling Conflicts\\\\NEW\\\\Results\\\\\"+str(congress)+\"\\\\comm_freq\"+str(congress)+\".csv\",index=False)"
   ]
  },
  {
   "cell_type": "markdown",
   "metadata": {},
   "source": [
    "# Conflicts per Hearing"
   ]
  },
  {
   "cell_type": "code",
   "execution_count": 5,
   "metadata": {},
   "outputs": [
    {
     "name": "stdout",
     "output_type": "stream",
     "text": [
      "Input year, seperate multiple years by space: 2013 2014\n",
      "\n",
      "Conflicts per hearing per quarter\n"
     ]
    },
    {
     "data": {
      "text/html": [
       "<div>\n",
       "<style scoped>\n",
       "    .dataframe tbody tr th:only-of-type {\n",
       "        vertical-align: middle;\n",
       "    }\n",
       "\n",
       "    .dataframe tbody tr th {\n",
       "        vertical-align: top;\n",
       "    }\n",
       "\n",
       "    .dataframe thead th {\n",
       "        text-align: right;\n",
       "    }\n",
       "</style>\n",
       "<table border=\"1\" class=\"dataframe\">\n",
       "  <thead>\n",
       "    <tr style=\"text-align: right;\">\n",
       "      <th></th>\n",
       "      <th>year</th>\n",
       "      <th>quarter</th>\n",
       "      <th>conflicts</th>\n",
       "      <th>hearings</th>\n",
       "    </tr>\n",
       "  </thead>\n",
       "  <tbody>\n",
       "    <tr>\n",
       "      <th>0</th>\n",
       "      <td>2013</td>\n",
       "      <td>1</td>\n",
       "      <td>1532</td>\n",
       "      <td>307</td>\n",
       "    </tr>\n",
       "    <tr>\n",
       "      <th>0</th>\n",
       "      <td>2013</td>\n",
       "      <td>2</td>\n",
       "      <td>2051</td>\n",
       "      <td>506</td>\n",
       "    </tr>\n",
       "    <tr>\n",
       "      <th>0</th>\n",
       "      <td>2013</td>\n",
       "      <td>3</td>\n",
       "      <td>949</td>\n",
       "      <td>253</td>\n",
       "    </tr>\n",
       "    <tr>\n",
       "      <th>0</th>\n",
       "      <td>2013</td>\n",
       "      <td>4</td>\n",
       "      <td>856</td>\n",
       "      <td>225</td>\n",
       "    </tr>\n",
       "    <tr>\n",
       "      <th>0</th>\n",
       "      <td>2014</td>\n",
       "      <td>1</td>\n",
       "      <td>1455</td>\n",
       "      <td>338</td>\n",
       "    </tr>\n",
       "    <tr>\n",
       "      <th>0</th>\n",
       "      <td>2014</td>\n",
       "      <td>2</td>\n",
       "      <td>1974</td>\n",
       "      <td>422</td>\n",
       "    </tr>\n",
       "    <tr>\n",
       "      <th>0</th>\n",
       "      <td>2014</td>\n",
       "      <td>3</td>\n",
       "      <td>1151</td>\n",
       "      <td>260</td>\n",
       "    </tr>\n",
       "    <tr>\n",
       "      <th>0</th>\n",
       "      <td>2014</td>\n",
       "      <td>4</td>\n",
       "      <td>172</td>\n",
       "      <td>83</td>\n",
       "    </tr>\n",
       "  </tbody>\n",
       "</table>\n",
       "</div>"
      ],
      "text/plain": [
       "   year quarter conflicts hearings\n",
       "0  2013       1      1532      307\n",
       "0  2013       2      2051      506\n",
       "0  2013       3       949      253\n",
       "0  2013       4       856      225\n",
       "0  2014       1      1455      338\n",
       "0  2014       2      1974      422\n",
       "0  2014       3      1151      260\n",
       "0  2014       4       172       83"
      ]
     },
     "metadata": {},
     "output_type": "display_data"
    },
    {
     "name": "stdout",
     "output_type": "stream",
     "text": [
      "\n",
      "Conflicts per hearing per month\n"
     ]
    },
    {
     "data": {
      "text/html": [
       "<div>\n",
       "<style scoped>\n",
       "    .dataframe tbody tr th:only-of-type {\n",
       "        vertical-align: middle;\n",
       "    }\n",
       "\n",
       "    .dataframe tbody tr th {\n",
       "        vertical-align: top;\n",
       "    }\n",
       "\n",
       "    .dataframe thead th {\n",
       "        text-align: right;\n",
       "    }\n",
       "</style>\n",
       "<table border=\"1\" class=\"dataframe\">\n",
       "  <thead>\n",
       "    <tr style=\"text-align: right;\">\n",
       "      <th></th>\n",
       "      <th>year</th>\n",
       "      <th>month</th>\n",
       "      <th>conflicts</th>\n",
       "      <th>hearings</th>\n",
       "    </tr>\n",
       "  </thead>\n",
       "  <tbody>\n",
       "    <tr>\n",
       "      <th>0</th>\n",
       "      <td>2013</td>\n",
       "      <td>1</td>\n",
       "      <td>91</td>\n",
       "      <td>22</td>\n",
       "    </tr>\n",
       "    <tr>\n",
       "      <th>0</th>\n",
       "      <td>2013</td>\n",
       "      <td>2</td>\n",
       "      <td>546</td>\n",
       "      <td>118</td>\n",
       "    </tr>\n",
       "    <tr>\n",
       "      <th>0</th>\n",
       "      <td>2013</td>\n",
       "      <td>3</td>\n",
       "      <td>895</td>\n",
       "      <td>167</td>\n",
       "    </tr>\n",
       "    <tr>\n",
       "      <th>0</th>\n",
       "      <td>2013</td>\n",
       "      <td>4</td>\n",
       "      <td>933</td>\n",
       "      <td>207</td>\n",
       "    </tr>\n",
       "    <tr>\n",
       "      <th>0</th>\n",
       "      <td>2013</td>\n",
       "      <td>5</td>\n",
       "      <td>520</td>\n",
       "      <td>140</td>\n",
       "    </tr>\n",
       "    <tr>\n",
       "      <th>0</th>\n",
       "      <td>2013</td>\n",
       "      <td>6</td>\n",
       "      <td>598</td>\n",
       "      <td>159</td>\n",
       "    </tr>\n",
       "    <tr>\n",
       "      <th>0</th>\n",
       "      <td>2013</td>\n",
       "      <td>7</td>\n",
       "      <td>560</td>\n",
       "      <td>146</td>\n",
       "    </tr>\n",
       "    <tr>\n",
       "      <th>0</th>\n",
       "      <td>2013</td>\n",
       "      <td>8</td>\n",
       "      <td>123</td>\n",
       "      <td>24</td>\n",
       "    </tr>\n",
       "    <tr>\n",
       "      <th>0</th>\n",
       "      <td>2013</td>\n",
       "      <td>9</td>\n",
       "      <td>266</td>\n",
       "      <td>83</td>\n",
       "    </tr>\n",
       "    <tr>\n",
       "      <th>0</th>\n",
       "      <td>2013</td>\n",
       "      <td>10</td>\n",
       "      <td>240</td>\n",
       "      <td>75</td>\n",
       "    </tr>\n",
       "    <tr>\n",
       "      <th>0</th>\n",
       "      <td>2013</td>\n",
       "      <td>11</td>\n",
       "      <td>402</td>\n",
       "      <td>85</td>\n",
       "    </tr>\n",
       "    <tr>\n",
       "      <th>0</th>\n",
       "      <td>2013</td>\n",
       "      <td>12</td>\n",
       "      <td>214</td>\n",
       "      <td>65</td>\n",
       "    </tr>\n",
       "    <tr>\n",
       "      <th>0</th>\n",
       "      <td>2014</td>\n",
       "      <td>1</td>\n",
       "      <td>234</td>\n",
       "      <td>62</td>\n",
       "    </tr>\n",
       "    <tr>\n",
       "      <th>0</th>\n",
       "      <td>2014</td>\n",
       "      <td>2</td>\n",
       "      <td>590</td>\n",
       "      <td>114</td>\n",
       "    </tr>\n",
       "    <tr>\n",
       "      <th>0</th>\n",
       "      <td>2014</td>\n",
       "      <td>3</td>\n",
       "      <td>631</td>\n",
       "      <td>162</td>\n",
       "    </tr>\n",
       "    <tr>\n",
       "      <th>0</th>\n",
       "      <td>2014</td>\n",
       "      <td>4</td>\n",
       "      <td>1090</td>\n",
       "      <td>191</td>\n",
       "    </tr>\n",
       "    <tr>\n",
       "      <th>0</th>\n",
       "      <td>2014</td>\n",
       "      <td>5</td>\n",
       "      <td>343</td>\n",
       "      <td>107</td>\n",
       "    </tr>\n",
       "    <tr>\n",
       "      <th>0</th>\n",
       "      <td>2014</td>\n",
       "      <td>6</td>\n",
       "      <td>541</td>\n",
       "      <td>124</td>\n",
       "    </tr>\n",
       "    <tr>\n",
       "      <th>0</th>\n",
       "      <td>2014</td>\n",
       "      <td>7</td>\n",
       "      <td>768</td>\n",
       "      <td>170</td>\n",
       "    </tr>\n",
       "    <tr>\n",
       "      <th>0</th>\n",
       "      <td>2014</td>\n",
       "      <td>8</td>\n",
       "      <td>0</td>\n",
       "      <td>5</td>\n",
       "    </tr>\n",
       "    <tr>\n",
       "      <th>0</th>\n",
       "      <td>2014</td>\n",
       "      <td>9</td>\n",
       "      <td>383</td>\n",
       "      <td>85</td>\n",
       "    </tr>\n",
       "    <tr>\n",
       "      <th>0</th>\n",
       "      <td>2014</td>\n",
       "      <td>10</td>\n",
       "      <td>0</td>\n",
       "      <td>6</td>\n",
       "    </tr>\n",
       "    <tr>\n",
       "      <th>0</th>\n",
       "      <td>2014</td>\n",
       "      <td>11</td>\n",
       "      <td>103</td>\n",
       "      <td>39</td>\n",
       "    </tr>\n",
       "    <tr>\n",
       "      <th>0</th>\n",
       "      <td>2014</td>\n",
       "      <td>12</td>\n",
       "      <td>69</td>\n",
       "      <td>38</td>\n",
       "    </tr>\n",
       "  </tbody>\n",
       "</table>\n",
       "</div>"
      ],
      "text/plain": [
       "   year month conflicts hearings\n",
       "0  2013     1        91       22\n",
       "0  2013     2       546      118\n",
       "0  2013     3       895      167\n",
       "0  2013     4       933      207\n",
       "0  2013     5       520      140\n",
       "0  2013     6       598      159\n",
       "0  2013     7       560      146\n",
       "0  2013     8       123       24\n",
       "0  2013     9       266       83\n",
       "0  2013    10       240       75\n",
       "0  2013    11       402       85\n",
       "0  2013    12       214       65\n",
       "0  2014     1       234       62\n",
       "0  2014     2       590      114\n",
       "0  2014     3       631      162\n",
       "0  2014     4      1090      191\n",
       "0  2014     5       343      107\n",
       "0  2014     6       541      124\n",
       "0  2014     7       768      170\n",
       "0  2014     8         0        5\n",
       "0  2014     9       383       85\n",
       "0  2014    10         0        6\n",
       "0  2014    11       103       39\n",
       "0  2014    12        69       38"
      ]
     },
     "metadata": {},
     "output_type": "display_data"
    }
   ],
   "source": [
    "#reformatting dates\n",
    "from datetime import datetime\n",
    "import pandas as pd \n",
    "\n",
    "#results df\n",
    "results[\"Date\"] = [datetime.strptime(string, '%A, %B %d, %Y') for string in results[\"Date\"]]\n",
    "results [\"Month\"] = [d.month for d in results[\"Date\"]]\n",
    "results [\"Year\"] = [d.year for d in results[\"Date\"]]\n",
    "results[\"Quarter\"] = [(m-1)//3 + 1 for m in results[\"Month\"]]\n",
    "\n",
    "#hearings df\n",
    "hearing_data[\"Date\"] = [datetime.strptime(string, '%A, %B %d, %Y') for string in hearing_data[\"Date\"]]\n",
    "hearing_data [\"Month\"] = [d.month for d in hearing_data[\"Date\"]]\n",
    "hearing_data [\"Year\"] = [d.year for d in hearing_data[\"Date\"]]\n",
    "hearing_data[\"Quarter\"] = [(m-1)//3 + 1 for m in hearing_data[\"Month\"]]\n",
    "\n",
    "#setting up dataframes\n",
    "conflictsxhearings_quarter = pd.DataFrame(columns=[\"year\",\"quarter\",\"conflicts\",\"hearings\"])\n",
    "conflictsxhearings_month = pd.DataFrame(columns=[\"year\",\"month\",\"conflicts\",\"hearings\"])\n",
    "\n",
    "#for each year in the congress\n",
    "for year in [int(i) for i in input(\"Input year, seperate multiple years by space: \").split()]:\n",
    "\n",
    "    for q in range(1,5):\n",
    "        try:\n",
    "            conflicts = results[results[\"Year\"]==year][\"Quarter\"].value_counts()[q]\n",
    "            hearings = hearing_data[hearing_data[\"Year\"]==year][\"Quarter\"].value_counts()[q]\n",
    "            res = pd.DataFrame([[year,q,conflicts,hearings]],columns = [\"year\",\"quarter\",\"conflicts\",\"hearings\"])\n",
    "            conflictsxhearings_quarter = conflictsxhearings_quarter.append(res)\n",
    "        except:\n",
    "            continue\n",
    "\n",
    "    for m in range(1,13):\n",
    "        try:\n",
    "            conflicts = results[results[\"Year\"]==year][\"Month\"].value_counts()[m]\n",
    "        except:\n",
    "            conflicts = 0\n",
    "        try:\n",
    "            hearings = hearing_data[hearing_data[\"Year\"]==year][\"Month\"].value_counts()[m]\n",
    "        except:\n",
    "            hearings = 0\n",
    "        res = pd.DataFrame([[year,m,conflicts,hearings]],columns = [\"year\",\"month\",\"conflicts\",\"hearings\"])\n",
    "        conflictsxhearings_month = conflictsxhearings_month.append(res)\n",
    "\n",
    "print(\"\\nConflicts per hearing per quarter\")\n",
    "display(conflictsxhearings_quarter)\n",
    "print(\"\\nConflicts per hearing per month\")\n",
    "display(conflictsxhearings_month)\n",
    "\n",
    "conflictsxhearings_quarter.to_csv(\"C:\\\\Users\\\\rorey\\\\OneDrive - Bipartisan Policy Center\\\\Congress\\\\Modernization\\\\Scheduling Conflicts\\\\NEW\\\\Results\\\\\"+str(congress)+\"\\\\conflicts_by_hearing_quarter\"+str(congress)+\".csv\")\n",
    "conflictsxhearings_month.to_csv(\"C:\\\\Users\\\\rorey\\\\OneDrive - Bipartisan Policy Center\\\\Congress\\\\Modernization\\\\Scheduling Conflicts\\\\NEW\\\\Results\\\\\"+str(congress)+\"\\\\conflicts_by_hearing_month\"+str(congress)+\".csv\")"
   ]
  },
  {
   "cell_type": "markdown",
   "metadata": {},
   "source": [
    "# Conflicts per Individual Member, Hearing"
   ]
  },
  {
   "cell_type": "markdown",
   "metadata": {},
   "source": [
    "## Members sorted by those with most conflicts"
   ]
  },
  {
   "cell_type": "code",
   "execution_count": 6,
   "metadata": {},
   "outputs": [
    {
     "data": {
      "text/plain": [
       "Doug Collins          178\n",
       "Cynthia M. Lummis     174\n",
       "Ron DeSantis          169\n",
       "Mark Meadows          131\n",
       "Blake Farenthold      121\n",
       "                     ... \n",
       "John Conyers,  Jr.      1\n",
       "Mac Thornberry          1\n",
       "Bennie G. Thompson      1\n",
       "James P. McGovern       1\n",
       "Linda T. Senchez        1\n",
       "Name: MC, Length: 360, dtype: int64"
      ]
     },
     "execution_count": 6,
     "metadata": {},
     "output_type": "execute_result"
    }
   ],
   "source": [
    "results[\"MC\"].value_counts()"
   ]
  },
  {
   "cell_type": "markdown",
   "metadata": {},
   "source": [
    "## Hearings with most conflicts"
   ]
  },
  {
   "cell_type": "code",
   "execution_count": 7,
   "metadata": {
    "scrolled": true
   },
   "outputs": [
    {
     "name": "stdout",
     "output_type": "stream",
     "text": [
      "The Committee on Armed Services had the hearing with the single highest number of scheduling conflicts.\n",
      "\n",
      "Link to hearing: https://docs.house.gov/Committee/Calendar/ByEvent.aspx?EventID=102098\n",
      "\n",
      "47 members at the hearing had a conflict, out of 63 total members.\n",
      "\n",
      "That's 0.75 percent of membership with a conflict\n"
     ]
    },
    {
     "data": {
      "image/png": "[encoded data removed]",
      "text/plain": [
       "<Figure size 432x288 with 1 Axes>"
      ]
     },
     "metadata": {
      "needs_background": "light"
     },
     "output_type": "display_data"
    }
   ],
   "source": [
    "conflicts_hearing = pd.DataFrame(results[\"Hearing 1 Link\"].append(results[\"Hearing 2 Link\"]).value_counts(),columns=[\"Scheduling Conflicts\"])\n",
    "conflicts_hearing[\"Committee\"] = [hearing_data[hearing_data[\"Link\"]==link][\"Committee\"].values[0] for link in conflicts_hearing.index]\n",
    "conflicts_hearing[\"Code\"] = [hearing_data[hearing_data[\"Link\"]==link][\"Code\"].values[0] for link in conflicts_hearing.index]\n",
    "conflicts_hearing.index.rename(\"Link\",inplace=True)\n",
    "\n",
    "maxhearing = str(conflicts_hearing.reset_index().iloc[0,0])\n",
    "maxcommittee = conflicts_hearing[\"Committee\"].values[0]\n",
    "maxcommittee_code = conflicts_hearing[\"Code\"].values[0]\n",
    "maxhearing_conflicts = results[(results[\"Hearing 1 Link\"]==maxhearing)|(results[\"Hearing 2 Link\"]==maxhearing)]\n",
    "memberswconflict = len(maxhearing_conflicts.drop_duplicates(subset=\"MC\"))\n",
    "membersincomm = len(members.loc[str(maxcommittee_code)].dropna())\n",
    "\n",
    "\n",
    "print(\"The\",maxcommittee,\"had the hearing with the single highest number of scheduling conflicts.\\n\\nLink to hearing:\",maxhearing,end=\"\\n\\n\")\n",
    "print(memberswconflict,\"members at the hearing had a conflict, out of\",membersincomm,\"total members.\",end=\"\\n\\n\")\n",
    "print(\"That's\",round(memberswconflict/membersincomm,2),\"percent of membership with a conflict\")\n",
    "\n",
    "conflicts_hearing.plot.hist(title=\"Distribution of Conflicts per Committee Hearing\",ylabel=\"test\")\n",
    "conflicts_hearing.to_csv(str(\"C:\\\\Users\\\\rorey\\\\OneDrive - Bipartisan Policy Center\\\\Congress\\\\Modernization\\\\Scheduling Conflicts\\\\NEW\\\\Results\\\\\"+str(congress)+\"\\\\conflictsperhearing\"+str(congress)+\".csv\"),index=True)"
   ]
  },
  {
   "cell_type": "code",
   "execution_count": 8,
   "metadata": {},
   "outputs": [
    {
     "name": "stdout",
     "output_type": "stream",
     "text": [
      "0.82 percent of hearings had at least one conflict\n"
     ]
    }
   ],
   "source": [
    "print(round(len(conflicts_hearing)/len(hearing_data),2),\"percent of hearings had at least one conflict\")"
   ]
  },
  {
   "cell_type": "code",
   "execution_count": 9,
   "metadata": {},
   "outputs": [
    {
     "name": "stdout",
     "output_type": "stream",
     "text": [
      "Average Members in Each Hearing with a Conflict [excluding hearings with no conflicts]\n"
     ]
    },
    {
     "data": {
      "text/plain": [
       "0.4053813385976048"
      ]
     },
     "execution_count": 9,
     "metadata": {},
     "output_type": "execute_result"
    }
   ],
   "source": [
    "## GET AVERAGE NUMBER OF MEMBERS WITH CONFLICTS PER HEARING\n",
    "\n",
    "membership = [len(members.loc[str(com)].dropna()) for com in members.index]\n",
    "membership = pd.DataFrame(membership,index=members.index)\n",
    "\n",
    "conflicts_hearing.reset_index(inplace=True)\n",
    "averageconflicts = conflicts_hearing\n",
    "averageconflicts.index = conflicts_hearing[\"Code\"]\n",
    "averageconflicts.drop([\"Code\"],axis=1,inplace=True)\n",
    "averageconflicts = averageconflicts.join(membership,how='left')\n",
    "\n",
    "averageconflicts = averageconflicts.rename(columns={0:\"NumMembers\"})\n",
    "\n",
    "averageconflicts[\"Percent_Conflict\"] = averageconflicts[\"Scheduling Conflicts\"]/averageconflicts[\"NumMembers\"]\n",
    "\n",
    "print(\"Average Members in Each Hearing with a Conflict [excluding hearings with no conflicts]\")\n",
    "averageconflicts[\"Percent_Conflict\"].mean()"
   ]
  },
  {
   "cell_type": "code",
   "execution_count": 10,
   "metadata": {},
   "outputs": [
    {
     "name": "stdout",
     "output_type": "stream",
     "text": [
      "Including hearings with no conflicts, average percent of members with a conflict overall\n",
      "0.3335844766237596\n"
     ]
    }
   ],
   "source": [
    "## MERGING WITH HEARING DATA TO GET PERCENT INCLUDING HEARINGS WITHOUT CONFLICTS\n",
    "\n",
    "averageconflicts.reset_index(inplace=True)\n",
    "averageconflicts.set_index(\"Link\",inplace=True)\n",
    "averageconflicts.drop([\"Committee\"],inplace=True,axis=1)\n",
    "\n",
    "hearing_data.set_index(\"Link\",inplace=True)\n",
    "\n",
    "averageconflicts1 = hearing_data.join(averageconflicts,how=\"left\")\n",
    "\n",
    "averageconflicts1[\"Scheduling Conflicts\"].fillna(0,inplace=True)\n",
    "averageconflicts1[\"Percent_Conflict\"].fillna(0,inplace=True)\n",
    "\n",
    "print(\"Including hearings with no conflicts, average percent of members with a conflict overall\")\n",
    "print(averageconflicts1[\"Percent_Conflict\"].mean())"
   ]
  },
  {
   "cell_type": "markdown",
   "metadata": {},
   "source": [
    "# Conflicts by Committee Assignments"
   ]
  },
  {
   "cell_type": "code",
   "execution_count": 11,
   "metadata": {},
   "outputs": [
    {
     "data": {
      "text/plain": [
       "<AxesSubplot:title={'center':'Relationship between Committee Assignments and Scheduling Conflicts\\n(including subcommittee assignments)'}, xlabel='No. Committees', ylabel='No. Conflicts'>"
      ]
     },
     "execution_count": 11,
     "metadata": {},
     "output_type": "execute_result"
    },
    {
     "data": {
      "image/png": "[encoded data removed]",
      "text/plain": [
       "<Figure size 432x288 with 1 Axes>"
      ]
     },
     "metadata": {
      "needs_background": "light"
     },
     "output_type": "display_data"
    }
   ],
   "source": [
    "import pandas as pd\n",
    "\n",
    "member_count = pd.melt(members).drop([\"variable\"],axis=1)\n",
    "member_count = member_count[~member_count[\"value\"].isna()]\n",
    "member_count = pd.DataFrame(pd.value_counts(member_count[\"value\"]))\n",
    "member_count.columns = [\"No. Committees\"]\n",
    "\n",
    "conflict_count = pd.DataFrame(pd.value_counts(results[\"MC\"]))\n",
    "conflict_by_assignments = pd.merge(member_count,conflict_count,left_index = True,right_index=True)\n",
    "conflict_by_assignments.columns = [\"No. Committees\",\"No. Conflicts\"]\n",
    "\n",
    "conflict_by_assignments.to_csv(\"C:\\\\Users\\\\rorey\\\\OneDrive - Bipartisan Policy Center\\\\Congress\\\\Modernization\\\\Scheduling Conflicts\\\\NEW\\\\Results\\\\\"+str(congress)+\"\\\\conflict_by_assignment\"+str(congress)+\".csv\")\n",
    "conflict_by_assignments.plot.scatter(x=\"No. Committees\",y=\"No. Conflicts\",title=\"Relationship between Committee Assignments and Scheduling Conflicts\\n(including subcommittee assignments)\")"
   ]
  },
  {
   "cell_type": "code",
   "execution_count": 12,
   "metadata": {},
   "outputs": [
    {
     "data": {
      "text/plain": [
       "4.526315789473684"
      ]
     },
     "execution_count": 12,
     "metadata": {},
     "output_type": "execute_result"
    }
   ],
   "source": [
    "member_count[\"No. Committees\"].mean()"
   ]
  },
  {
   "cell_type": "code",
   "execution_count": 13,
   "metadata": {},
   "outputs": [],
   "source": [
    "# hearing_data[hearing_data[\"Hearing Title\"].str.contains(\"Mark up\",case=False)|hearing_data[\"Hearing Title\"].str.contains(\"Markup\",case=False)]"
   ]
  },
  {
   "cell_type": "markdown",
   "metadata": {},
   "source": [
    "# Overlap"
   ]
  },
  {
   "cell_type": "code",
   "execution_count": 14,
   "metadata": {},
   "outputs": [],
   "source": [
    "members.reset_index(inplace=True)\n",
    "members.drop([\"id\"],axis=1,inplace=True)\n",
    "members_long = members[members['index'].str.contains('00')]\n",
    "members_long = pd.melt(members_long,id_vars=[\"index\"])\n",
    "members_long.drop([\"variable\"],axis=1,inplace=True)\n",
    "members_long.dropna(inplace=True)"
   ]
  },
  {
   "cell_type": "code",
   "execution_count": 15,
   "metadata": {},
   "outputs": [],
   "source": [
    "hearing_data[\"ShortCode\"] = hearing_data[\"Code\"].str[:-2]\n",
    "hearing_freq = hearing_data.groupby([\"ShortCode\"]).count()[[\"Date\"]]\n",
    "hearing_freq.to_csv(\"C:\\\\Users\\\\rorey\\\\OneDrive - Bipartisan Policy Center\\\\Congress\\\\Modernization\\\\Scheduling Conflicts\\\\NEW\\\\Results\\\\\"+str(congress)+\"\\\\hearingfreq\"+str(congress)+\".csv\",index=True)"
   ]
  },
  {
   "cell_type": "code",
   "execution_count": 16,
   "metadata": {},
   "outputs": [],
   "source": [
    "comms = members_long[\"index\"].unique()\n",
    "overlap = pd.DataFrame(columns=comms,index=comms)\n",
    "\n",
    "for comm in range(len(comms)):\n",
    "    l1 = list(members_long[members_long['index']==comms[comm]][\"value\"])\n",
    "    for comm2 in range(len(comms)):\n",
    "        l2 = list(members_long[members_long['index']==comms[comm2]][\"value\"])\n",
    "#         print(comm,comm2)\n",
    "        numoverlap = len([value for value in l1 if value in l2])\n",
    "        overlap.iloc[comm,comm2] = numoverlap"
   ]
  },
  {
   "cell_type": "code",
   "execution_count": 17,
   "metadata": {},
   "outputs": [],
   "source": [
    "overlap.to_csv(\"C:\\\\Users\\\\rorey\\\\OneDrive - Bipartisan Policy Center\\\\Congress\\\\Modernization\\\\Scheduling Conflicts\\\\NEW\\\\Results\\\\\"+str(congress)+\"\\\\overlap\"+str(congress)+\".csv\",index=True)"
   ]
  }
 ],
 "metadata": {
  "kernelspec": {
   "display_name": "Python 3 (ipykernel)",
   "language": "python",
   "name": "python3"
  },
  "language_info": {
   "codemirror_mode": {
    "name": "ipython",
    "version": 3
   },
   "file_extension": ".py",
   "mimetype": "text/x-python",
   "name": "python",
   "nbconvert_exporter": "python",
   "pygments_lexer": "ipython3",
   "version": "3.9.7"
  }
 },
 "nbformat": 4,
 "nbformat_minor": 4
}
