{
 "cells": [
  {
   "cell_type": "code",
   "execution_count": 1,
   "metadata": {},
   "outputs": [],
   "source": [
    "### gets distribution of committees between three blocks\n",
    "### goal: minimize pairwise interactions between members\n",
    "### to reduce spread of COVID-19\n",
    "\n",
    "class graph():\n",
    "    def __init__(self, dataframe):\n",
    "        self.matrix = dataframe.set_index(\"MC\")\n",
    "        self.transpose = transpose = self.matrix.transpose()\n",
    "        \n",
    "        self.members = set( self.matrix.columns )\n",
    "        self.committees = set( self.transpose.columns )\n",
    "\n",
    "    def member_adjacency(self, member):\n",
    "        neighbours = set( self.matrix[ self.matrix[member] == 1 ].index )\n",
    "        neighbours = neighbours.intersection( self.committees )\n",
    "        \n",
    "        return neighbours\n",
    "    \n",
    "    def committee_adjacency(self, committee):\n",
    "        neighbours = set( self.transpose[ self.transpose[committee] == 1 ].index )\n",
    "        neighbours = neighbours.intersection( self.members )\n",
    "        \n",
    "        self.members = self.members.difference( neighbours )\n",
    "        return neighbours, len( neighbours )\n",
    "    \n",
    "    def connected_(self, queue):\n",
    "        component, weight = [], 0  \n",
    "        \n",
    "        while queue:\n",
    "            committee = queue.pop()\n",
    "            component.append( committee )\n",
    "            self.committees.remove( committee )\n",
    "\n",
    "            members, w = self.committee_adjacency( committee )\n",
    "            weight = weight + w\n",
    "            \n",
    "            queue = queue.union( *[ self.member_adjacency( member ) for member in members ] )\n",
    "            queue = self.committees.intersection( queue )\n",
    "\n",
    "        return component, weight\n",
    "    \n",
    "    def components(self):\n",
    "        components = []\n",
    "        while self.committees:\n",
    "            component = list( self.committees )[0]\n",
    "            components.append( self.connected_( set([component]) ) )\n",
    "        return components"
   ]
  },
  {
   "cell_type": "code",
   "execution_count": 2,
   "metadata": {},
   "outputs": [],
   "source": [
    "def paritition( dataset ):\n",
    "    components = graph( dataset ).components()\n",
    "    \n",
    "    if len(components) < 3:\n",
    "        return \"FAIL\"\n",
    "    \n",
    "    components.sort( key = lambda x: x[1], reverse = True )\n",
    "    slates = [ ([], 0) for x in range(3) ]\n",
    "    \n",
    "    while components:\n",
    "        minimum = slates.index( min(slates, key = lambda x: x[1]) )\n",
    "        committees, weight = components.pop(0)\n",
    "        \n",
    "        current, sum_weight = slates[ minimum ]\n",
    "        slates[ minimum ] = ( current + committees, sum_weight + weight )\n",
    "        \n",
    "    return slates"
   ]
  },
  {
   "cell_type": "code",
   "execution_count": 3,
   "metadata": {},
   "outputs": [],
   "source": [
    "class partitions:\n",
    "    def __init__(self, dataset, N = 3):\n",
    "        dataset = dataset.set_index(\"MC\").transpose()\n",
    "        self.committees = [ (x, set(dataset[ dataset[x] == 1 ].index)) for x in dataset.columns ]\n",
    "        self.partitions = [ [[], set()] for x in range(N) ]\n",
    "\n",
    "    def weight(self, current, index):\n",
    "        return len( current[1].difference( self.partitions[index][1] ) )\n",
    "\n",
    "    def add(self, current, index):\n",
    "        self.partitions[index][0].append( current[0] )\n",
    "        self.partitions[index][1] = self.partitions[index][1].union( current[1] )\n",
    "        self.committees.remove( current )\n",
    "        \n",
    "    def partition(self):\n",
    "        while self.committees:\n",
    "            index   = self.partitions.index( min(self.partitions, key = lambda x: len(x[1])) )\n",
    "            current = min( self.committees, key = lambda x: self.weight(x, index) )\n",
    "            \n",
    "            self.add( current, index )\n",
    "            \n",
    "        return [ (x[0], len( x[1] )) for x in self.partitions ]"
   ]
  },
  {
   "cell_type": "code",
   "execution_count": 13,
   "metadata": {},
   "outputs": [
    {
     "data": {
      "text/plain": [
       "[(['HA00', 'RU00', 'SM00', 'ED00', 'BU00', 'GO00', 'PW00', 'BA00'], 222),\n",
       " (['SO00', 'IE00', 'VR00', 'WM00', 'SY00', 'AG00', 'AS00', 'IF00'], 237),\n",
       " (['ZI00', 'IG00', 'HM00', 'JU00', 'FA00', 'II00', 'AP00'], 201)]"
      ]
     },
     "execution_count": 13,
     "metadata": {},
     "output_type": "execute_result"
    }
   ],
   "source": [
    "def run( dataset, N = 3 ):\n",
    "    return partitions( dataset, N ).partition()\n",
    "\n",
    "run(dataset)"
   ]
  },
  {
   "cell_type": "code",
   "execution_count": 8,
   "metadata": {},
   "outputs": [],
   "source": [
    "import pandas as pd \n",
    "dataset = pd.read_csv(\"D:\\\\OneDrive - Bipartisan Policy Center\\\\Congress\\\\COVID-19\\\\ComxMC116.csv\")"
   ]
  },
  {
   "cell_type": "code",
   "execution_count": 9,
   "metadata": {},
   "outputs": [
    {
     "name": "stdout",
     "output_type": "stream",
     "text": [
      "Optimal Approximation: \n",
      "\n",
      "\n",
      "Slate 1: ['HA00', 'SO00', 'ZI00', 'RU00', 'IE00', 'IG00', 'SM00', 'VR00', 'HM00', 'JU00', 'FA00', 'SY00', 'ED00', 'GO00', 'AG00', 'PW00', 'AS00', 'II00', 'BU00', 'WM00', 'BA00', 'IF00', 'AP00']\n",
      "\n",
      "Total pairwise interactions with 1 slates: 187489 \n",
      "\n",
      "Slate 1: ['HA00', 'ZI00', 'IE00', 'IG00', 'HM00', 'JU00', 'FA00', 'GO00', 'SY00', 'PW00', 'BA00', 'IF00']\n",
      "Slate 2: ['SO00', 'RU00', 'SM00', 'VR00', 'ED00', 'BU00', 'AG00', 'II00', 'AS00', 'WM00', 'AP00']\n",
      "\n",
      "Total pairwise interactions with 2 slates: 164309 \n",
      "\n",
      "Slate 1: ['HA00', 'RU00', 'SM00', 'ED00', 'BU00', 'GO00', 'PW00', 'BA00']\n",
      "Slate 2: ['SO00', 'IE00', 'VR00', 'WM00', 'SY00', 'AG00', 'AS00', 'IF00']\n",
      "Slate 3: ['ZI00', 'IG00', 'HM00', 'JU00', 'FA00', 'II00', 'AP00']\n",
      "\n",
      "Total pairwise interactions with 3 slates: 145854 \n",
      "\n"
     ]
    }
   ],
   "source": [
    "print(\"Optimal Approximation: \\n\\n\")\n",
    "for N in range(1, 4):\n",
    "    trial = run( dataset, N )\n",
    "    for slate in range(N):\n",
    "        print(\"Slate {}: {}\".format(slate + 1, trial[slate][0]) )\n",
    "    print( \"\\nTotal pairwise interactions with {} slates: {} \\n\".format( N, sum([ x[1] ** 2 for x in trial ]) ) )"
   ]
  },
  {
   "cell_type": "code",
   "execution_count": 10,
   "metadata": {},
   "outputs": [],
   "source": [
    "import math\n",
    "\n",
    "def members( transpose, committees ):\n",
    "    members = set().union( *[ transpose[ transpose[x] == 1 ].index for x in committees ] )\n",
    "    return len( members )\n",
    "\n",
    "def random_equal_partition( dataset, N ):\n",
    "    dataset = dataset.set_index(\"MC\")\n",
    "    transpose = dataset.transpose()\n",
    "    \n",
    "    committees = list( dataset.index )\n",
    "    committees.sort( key = lambda x: hash(x + str(N)) )\n",
    "    \n",
    "    split = math.ceil( len(committees) / N )\n",
    "    \n",
    "    partitions = [ committees[ i * split : (i + 1) * split ] for i in range(N) ]\n",
    "    partitions = [ (x, members(transpose, x)) for x in partitions ]\n",
    "    \n",
    "    return partitions"
   ]
  },
  {
   "cell_type": "code",
   "execution_count": 11,
   "metadata": {
    "scrolled": true
   },
   "outputs": [
    {
     "name": "stdout",
     "output_type": "stream",
     "text": [
      "Random Assignment: \n",
      "\n",
      "\n",
      "Slate 1: ['WM00', 'GO00', 'JU00', 'ED00', 'II00', 'FA00', 'AG00', 'AS00', 'BU00', 'PW00', 'IF00', 'ZI00', 'SY00', 'SO00', 'IG00', 'IE00', 'SM00', 'AP00', 'VR00', 'BA00', 'HA00', 'RU00', 'HM00']\n",
      "\n",
      "Total pairwise interactions with 1 slates: 187489 \n",
      "\n",
      "Slate 1: ['HA00', 'SM00', 'JU00', 'IF00', 'VR00', 'SY00', 'IE00', 'BA00', 'GO00', 'PW00', 'IG00', 'II00']\n",
      "Slate 2: ['ZI00', 'SO00', 'AS00', 'RU00', 'BU00', 'WM00', 'ED00', 'FA00', 'HM00', 'AP00', 'AG00']\n",
      "\n",
      "Total pairwise interactions with 2 slates: 182536 \n",
      "\n",
      "Slate 1: ['AG00', 'FA00', 'IF00', 'GO00', 'IG00', 'BA00', 'II00', 'ZI00']\n",
      "Slate 2: ['SY00', 'HM00', 'RU00', 'AP00', 'BU00', 'PW00', 'ED00', 'VR00']\n",
      "Slate 3: ['IE00', 'AS00', 'SO00', 'HA00', 'SM00', 'WM00', 'JU00']\n",
      "\n",
      "Total pairwise interactions with 3 slates: 156554 \n",
      "\n"
     ]
    }
   ],
   "source": [
    "print(\"Random Assignment: \\n\\n\")\n",
    "for N in range(1, 4):\n",
    "    trial = random_equal_partition( dataset, N )\n",
    "    for slate in range(N):\n",
    "        print(\"Slate {}: {}\".format(slate + 1, trial[slate][0]) )\n",
    "    print( \"\\nTotal pairwise interactions with {} slates: {} \\n\".format( N, sum([ x[1] ** 2 for x in trial ]) ) )"
   ]
  },
  {
   "cell_type": "code",
   "execution_count": null,
   "metadata": {},
   "outputs": [],
   "source": []
  }
 ],
 "metadata": {
  "kernelspec": {
   "display_name": "Python 3",
   "language": "python",
   "name": "python3"
  },
  "language_info": {
   "codemirror_mode": {
    "name": "ipython",
    "version": 3
   },
   "file_extension": ".py",
   "mimetype": "text/x-python",
   "name": "python",
   "nbconvert_exporter": "python",
   "pygments_lexer": "ipython3",
   "version": "3.7.4"
  }
 },
 "nbformat": 4,
 "nbformat_minor": 2
}
